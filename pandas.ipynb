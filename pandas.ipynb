{
  "nbformat": 4,
  "nbformat_minor": 0,
  "metadata": {
    "colab": {
      "provenance": [],
      "authorship_tag": "ABX9TyOGQdas+JloXqp/6JcauFbL",
      "include_colab_link": true
    },
    "kernelspec": {
      "name": "python3",
      "display_name": "Python 3"
    },
    "language_info": {
      "name": "python"
    }
  },
  "cells": [
    {
      "cell_type": "markdown",
      "metadata": {
        "id": "view-in-github",
        "colab_type": "text"
      },
      "source": [
        "<a href=\"https://colab.research.google.com/github/bahing-rai/ai_foundation/blob/main/pandas.ipynb\" target=\"_parent\"><img src=\"https://colab.research.google.com/assets/colab-badge.svg\" alt=\"Open In Colab\"/></a>"
      ]
    },
    {
      "cell_type": "markdown",
      "source": [
        "## PANDAS\n"
      ],
      "metadata": {
        "id": "sylqZVmIJxhS"
      }
    },
    {
      "cell_type": "code",
      "source": [
        "import pandas as pd"
      ],
      "metadata": {
        "id": "NolLe-qgK7b5"
      },
      "execution_count": null,
      "outputs": []
    },
    {
      "cell_type": "code",
      "source": [
        "data = {\n",
        "    \"cars\" : [\"bmw\", \"honda\", \"suzuki\", \"byd\"],\n",
        "    \"models\" : [\"2007\", \"2008\", \"2008\", \"2022\"],\n",
        "    \"passen\" : [\"4\", \"5\", \"6\", \"7\"]\n",
        "}\n",
        "print(data)"
      ],
      "metadata": {
        "colab": {
          "base_uri": "https://localhost:8080/"
        },
        "id": "bSo_Ue0dLFfS",
        "outputId": "bfb7f7a1-951b-4660-c420-37e49d6f610a"
      },
      "execution_count": null,
      "outputs": [
        {
          "output_type": "stream",
          "name": "stdout",
          "text": [
            "{'cars': ['bmw', 'honda', 'suzuki', 'byd'], 'models': ['2007', '2008', '2008', '2022'], 'passen': ['4', '5', '6', '7']}\n"
          ]
        }
      ]
    },
    {
      "cell_type": "code",
      "source": [
        "# convert this dict to dataframe\n",
        "df = pd.DataFrame(data)\n",
        "print(df)"
      ],
      "metadata": {
        "colab": {
          "base_uri": "https://localhost:8080/"
        },
        "id": "yVDy3_JHLu02",
        "outputId": "3724db1d-39d9-45ea-d87b-a63bd5c7578d"
      },
      "execution_count": null,
      "outputs": [
        {
          "output_type": "stream",
          "name": "stdout",
          "text": [
            "     cars models passen\n",
            "0     bmw   2007      4\n",
            "1   honda   2008      5\n",
            "2  suzuki   2008      6\n",
            "3     byd   2022      7\n"
          ]
        }
      ]
    },
    {
      "cell_type": "code",
      "source": [
        "df_to_csv = df.to_csv(\"cars.csv\")"
      ],
      "metadata": {
        "id": "LE6DuEzUMJW-"
      },
      "execution_count": null,
      "outputs": []
    },
    {
      "cell_type": "code",
      "source": [
        "df = pd.read_csv(\"cars.csv\")\n",
        "print(df)"
      ],
      "metadata": {
        "colab": {
          "base_uri": "https://localhost:8080/"
        },
        "id": "TuJwQl9xM6xm",
        "outputId": "c46fad83-cd7f-4d18-aff7-126185e8587d"
      },
      "execution_count": null,
      "outputs": [
        {
          "output_type": "stream",
          "name": "stdout",
          "text": [
            "   Unnamed: 0    cars  models  passen\n",
            "0           0     bmw    2007       4\n",
            "1           1   honda    2008       5\n",
            "2           2  suzuki    2008       6\n",
            "3           3     byd    2022       7\n"
          ]
        }
      ]
    },
    {
      "cell_type": "code",
      "source": [
        "# check the version of pandas\n",
        "pd.__version__"
      ],
      "metadata": {
        "colab": {
          "base_uri": "https://localhost:8080/",
          "height": 36
        },
        "id": "OHx1mqiINBSu",
        "outputId": "41219c4b-85f3-4441-aac9-efaa1cf3ab58"
      },
      "execution_count": null,
      "outputs": [
        {
          "output_type": "execute_result",
          "data": {
            "text/plain": [
              "'2.2.2'"
            ],
            "application/vnd.google.colaboratory.intrinsic+json": {
              "type": "string"
            }
          },
          "metadata": {},
          "execution_count": 10
        }
      ]
    },
    {
      "cell_type": "code",
      "source": [
        "# Pandas Series(1 dimensional array)\n",
        "import pandas as pd\n",
        "a = [1, 7, 2]\n",
        "myvar = pd.Series(a)\n",
        "print(myvar)"
      ],
      "metadata": {
        "colab": {
          "base_uri": "https://localhost:8080/"
        },
        "id": "uWi6xBpHNwRj",
        "outputId": "69202644-b62a-4a7b-e3cf-e2f8938f309b"
      },
      "execution_count": null,
      "outputs": [
        {
          "output_type": "stream",
          "name": "stdout",
          "text": [
            "0    1\n",
            "1    7\n",
            "2    2\n",
            "dtype: int64\n"
          ]
        }
      ]
    },
    {
      "cell_type": "code",
      "source": [
        "# create labels in pandas with index\n",
        "a = [1, 7, 2]\n",
        "myvar = pd.Series(a, index = [\"x\", \"y\", \"z\"])\n",
        "print(myvar)"
      ],
      "metadata": {
        "colab": {
          "base_uri": "https://localhost:8080/"
        },
        "id": "-fzisPhzObYG",
        "outputId": "1caeca5d-64cb-4e0f-b6c5-0b60869fdbc7"
      },
      "execution_count": null,
      "outputs": [
        {
          "output_type": "stream",
          "name": "stdout",
          "text": [
            "x    1\n",
            "y    7\n",
            "z    2\n",
            "dtype: int64\n"
          ]
        }
      ]
    },
    {
      "cell_type": "code",
      "source": [
        "print(myvar[\"y\"])"
      ],
      "metadata": {
        "colab": {
          "base_uri": "https://localhost:8080/"
        },
        "id": "2XwaPBnUOzE8",
        "outputId": "965fd9fb-ded5-4d2a-b7cc-0fe700e6c6ae"
      },
      "execution_count": null,
      "outputs": [
        {
          "output_type": "stream",
          "name": "stdout",
          "text": [
            "7\n"
          ]
        }
      ]
    },
    {
      "cell_type": "markdown",
      "source": [
        "Dataframe"
      ],
      "metadata": {
        "id": "e0ASd5jjPzDo"
      }
    },
    {
      "cell_type": "code",
      "source": [
        "# create a dataframe from two series\n",
        "import pandas as pd\n",
        "data ={\n",
        "    \"calories\" : [420, 380, 390],\n",
        "    \"duration\" : [50, 40, 45]\n",
        "}\n",
        "df = pd.DataFrame(data)\n",
        "print(df)\n"
      ],
      "metadata": {
        "colab": {
          "base_uri": "https://localhost:8080/"
        },
        "id": "4RPQrIqRP1Oy",
        "outputId": "62380c72-6063-4690-bfc4-92a1f4a7868a"
      },
      "execution_count": null,
      "outputs": [
        {
          "output_type": "stream",
          "name": "stdout",
          "text": [
            "   calories  duration\n",
            "0       420        50\n",
            "1       380        40\n",
            "2       390        45\n"
          ]
        }
      ]
    },
    {
      "cell_type": "code",
      "source": [
        "# locate ROW using loc function\n",
        "print(df.loc[0])"
      ],
      "metadata": {
        "colab": {
          "base_uri": "https://localhost:8080/"
        },
        "id": "1qHow6WAQIEW",
        "outputId": "a568da3b-c6ed-4bf0-b5a3-8fa332a92969"
      },
      "execution_count": null,
      "outputs": [
        {
          "output_type": "stream",
          "name": "stdout",
          "text": [
            "calories    420\n",
            "duration     50\n",
            "Name: 0, dtype: int64\n"
          ]
        }
      ]
    },
    {
      "cell_type": "code",
      "source": [
        "# return 0 and 1\n",
        "print(df.loc[[0, 1]])"
      ],
      "metadata": {
        "colab": {
          "base_uri": "https://localhost:8080/"
        },
        "id": "mcgyFv4PROVv",
        "outputId": "0f29effe-8395-46b3-c252-eb34460b8309"
      },
      "execution_count": null,
      "outputs": [
        {
          "output_type": "stream",
          "name": "stdout",
          "text": [
            "   calories  duration\n",
            "0       420        50\n",
            "1       380        40\n"
          ]
        }
      ]
    },
    {
      "cell_type": "code",
      "source": [
        "# import with day1, day2, day3\n",
        "import pandas as pd\n",
        "data = {\n",
        "    \"calories\" : [420, 380, 390],\n",
        "    \"duration\" : [50, 40, 45]\n",
        "}\n",
        "df = pd.DataFrame(data, index = [\"Day1\", \"Day2\", \"Day3\"])\n",
        "print(df)"
      ],
      "metadata": {
        "colab": {
          "base_uri": "https://localhost:8080/"
        },
        "id": "3c-V0E3zR5jX",
        "outputId": "7f1de7b0-caba-4f32-b83a-c720b70c2b71"
      },
      "execution_count": null,
      "outputs": [
        {
          "output_type": "stream",
          "name": "stdout",
          "text": [
            "      calories  duration\n",
            "Day1       420        50\n",
            "Day2       380        40\n",
            "Day3       390        45\n"
          ]
        }
      ]
    },
    {
      "cell_type": "code",
      "source": [
        "print(df.loc[\"Day2\"])"
      ],
      "metadata": {
        "colab": {
          "base_uri": "https://localhost:8080/"
        },
        "id": "qZfa_GVAScDK",
        "outputId": "985a05f6-6334-44d6-f176-56462b1d0642"
      },
      "execution_count": null,
      "outputs": [
        {
          "output_type": "stream",
          "name": "stdout",
          "text": [
            "calories    380\n",
            "duration     40\n",
            "Name: Day2, dtype: int64\n"
          ]
        }
      ]
    },
    {
      "cell_type": "code",
      "source": [
        "print(df.loc[\"Day1\"])"
      ],
      "metadata": {
        "colab": {
          "base_uri": "https://localhost:8080/"
        },
        "id": "2sJOsyIiTviH",
        "outputId": "ffa7a876-ec5c-4325-eab5-258cf5768ed5"
      },
      "execution_count": null,
      "outputs": [
        {
          "output_type": "stream",
          "name": "stdout",
          "text": [
            "calories    420\n",
            "duration     50\n",
            "Name: Day1, dtype: int64\n"
          ]
        }
      ]
    },
    {
      "cell_type": "code",
      "source": [
        "print(df.loc[\"Day3\"])"
      ],
      "metadata": {
        "colab": {
          "base_uri": "https://localhost:8080/"
        },
        "id": "D0-DPO_RT9Qr",
        "outputId": "e9ab0bfb-e7ae-4e3b-82dd-71021fad0dca"
      },
      "execution_count": null,
      "outputs": [
        {
          "output_type": "stream",
          "name": "stdout",
          "text": [
            "calories    390\n",
            "duration     45\n",
            "Name: Day3, dtype: int64\n"
          ]
        }
      ]
    },
    {
      "cell_type": "markdown",
      "source": [
        "Data Cleaning with pandas\n",
        "\n",
        "bad data can be\n",
        "- empty cells\n",
        "- data in wrong format\n",
        "- wrong data\n",
        "- Duplicates"
      ],
      "metadata": {
        "id": "D2xOT1k6UZ7I"
      }
    },
    {
      "cell_type": "code",
      "source": [
        "import pandas as pd\n",
        "df = pd.read_csv(\"pandas_dataset.csv\")\n",
        "print(df)"
      ],
      "metadata": {
        "colab": {
          "base_uri": "https://localhost:8080/"
        },
        "id": "zGU7T-ULUyfm",
        "outputId": "ada4ab09-5712-49e8-ca32-0afbda942d7e"
      },
      "execution_count": null,
      "outputs": [
        {
          "output_type": "stream",
          "name": "stdout",
          "text": [
            "    Duration         Date  Pulse  Maxpulse  Calories\n",
            "0         60  2020/12/01'    110       130     409.1\n",
            "1         60  2020/12/02'    117       145     479.0\n",
            "2         60  2020/12/03'    103       135     340.0\n",
            "3         45  2020/12/04'    109       175     282.4\n",
            "4         45  2020/12/05'    117       148     406.0\n",
            "5         60  2020/12/06'    102       127     300.0\n",
            "6         60  2020/12/07'    110       136     374.0\n",
            "7        450  2020/12/08'    104       134     253.3\n",
            "8         30  2020/12/09'    109       133     195.1\n",
            "9         60  2020/12/10'     98       124     269.0\n",
            "10        60  2020/12/11'    103       147     329.3\n",
            "11        60  2020/12/12'    100       120     250.7\n",
            "12        60  2020/12/12'    100       120     250.7\n",
            "13        60  2020/12/13'    106       128     345.3\n",
            "14        60  2020/12/14'    104       132     379.3\n",
            "15        60  2020/12/15'     98       123     275.0\n",
            "16        60  2020/12/16'     98       120     215.2\n",
            "17        60  2020/12/17'    100       120     300.0\n",
            "18        45  2020/12/18'     90       112       NaN\n",
            "19        60  2020/12/19'    103       123     323.0\n",
            "20        45  2020/12/20'     97       125     243.0\n",
            "21        60  2020/12/21'    108       131     364.2\n",
            "22        45          NaN    100       119     282.0\n",
            "23        60  2020/12/23'    130       101     300.0\n",
            "24        45  2020/12/24'    105       132     246.0\n",
            "25        60  2020/12/25'    102       126     334.5\n",
            "26        60   12/26/2020    100       120     250.0\n",
            "27        60  2020/12/27'     92       118     241.0\n",
            "28        60  2020/12/28'    103       132       NaN\n",
            "29        60  2020/12/29'    100       132     280.0\n",
            "30        60  2020/12/30'    102       129     380.3\n",
            "31        60  2020/12/31'     92       115     243.0\n"
          ]
        }
      ]
    },
    {
      "cell_type": "markdown",
      "source": [
        "## Problems in our dataset\n",
        "\n",
        "- Dataset contains some empty cells (\"Date\" in row 22 and \"calories\" in row 18 and 28)\n",
        "\n",
        "- Dataset in wrong format (in row 26 of \"date\")\n",
        "\n",
        "- Dataset contains wrong data (in row 7 of \"duration\")\n",
        "\n",
        "- Dataset conatins duplicate values (in rows 11 and 12)"
      ],
      "metadata": {
        "id": "76iPGIPmUkfm"
      }
    },
    {
      "cell_type": "code",
      "source": [],
      "metadata": {
        "id": "AoMHgKX8U1JJ"
      },
      "execution_count": null,
      "outputs": []
    }
  ]
}