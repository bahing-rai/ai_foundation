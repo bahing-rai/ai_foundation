{
  "nbformat": 4,
  "nbformat_minor": 0,
  "metadata": {
    "colab": {
      "provenance": [],
      "authorship_tag": "ABX9TyMnPSd+TJHWdnProh/K8TP4",
      "include_colab_link": true
    },
    "kernelspec": {
      "name": "python3",
      "display_name": "Python 3"
    },
    "language_info": {
      "name": "python"
    }
  },
  "cells": [
    {
      "cell_type": "markdown",
      "metadata": {
        "id": "view-in-github",
        "colab_type": "text"
      },
      "source": [
        "<a href=\"https://colab.research.google.com/github/bahing-rai/ai_foundation/blob/main/colab_todo_list.ipynb\" target=\"_parent\"><img src=\"https://colab.research.google.com/assets/colab-badge.svg\" alt=\"Open In Colab\"/></a>"
      ]
    },
    {
      "cell_type": "code",
      "source": [
        "import IPython\n",
        "from IPython.display import display, HTML\n",
        "import json"
      ],
      "metadata": {
        "id": "1zXbyJe-kgvq"
      },
      "execution_count": 10,
      "outputs": []
    },
    {
      "cell_type": "code",
      "source": [
        "TASKS_FILE = \"tasks.json\""
      ],
      "metadata": {
        "id": "N3MT-Dyik1bW"
      },
      "execution_count": 11,
      "outputs": []
    },
    {
      "cell_type": "code",
      "source": [
        "def load_tasks():\n",
        "    try:\n",
        "        with open(TASKS_FILE, \"r\") as file:\n",
        "            return json.load(file)\n",
        "    except (FileNotFoundError, json.JSONDecodeError):\n",
        "        return []"
      ],
      "metadata": {
        "id": "wkmVf-xEk333"
      },
      "execution_count": 12,
      "outputs": []
    },
    {
      "cell_type": "code",
      "source": [
        "def save_tasks(tasks):\n",
        "    with open(TASKS_FILE, \"w\") as file:\n",
        "        json.dump(tasks, file)"
      ],
      "metadata": {
        "id": "DmRwYgIXk5-p"
      },
      "execution_count": 13,
      "outputs": []
    },
    {
      "cell_type": "code",
      "source": [
        "def show_tasks():\n",
        "    tasks = load_tasks()\n",
        "    if not tasks:\n",
        "        display(HTML(\"<b>✅ No tasks available!</b>\"))\n",
        "    else:\n",
        "        html = \"<b>📌 To-Do List:</b><ul>\"\n",
        "        for i, task in enumerate(tasks, 1):\n",
        "            html += f\"<li>{i}. {task}</li>\"\n",
        "        html += \"</ul>\"\n",
        "        display(HTML(html))"
      ],
      "metadata": {
        "id": "RRBzmRbjk8C1"
      },
      "execution_count": 14,
      "outputs": []
    },
    {
      "cell_type": "code",
      "source": [
        "def add_task(task):\n",
        "    tasks = load_tasks()\n",
        "    tasks.append(task)\n",
        "    save_tasks(tasks)\n",
        "    display(HTML(f\"<b>✅ Task added:</b> {task}\"))\n",
        "    show_tasks()"
      ],
      "metadata": {
        "id": "56eppqzxk-ya"
      },
      "execution_count": 15,
      "outputs": []
    },
    {
      "cell_type": "code",
      "source": [
        "def complete_task(task_number):\n",
        "    tasks = load_tasks()\n",
        "    if 1 <= task_number <= len(tasks):\n",
        "        completed_task = tasks.pop(task_number - 1)\n",
        "        save_tasks(tasks)\n",
        "        display(HTML(f\"<b>✔️ Task completed:</b> {completed_task}\"))\n",
        "    else:\n",
        "        display(HTML(\"<b>❌ Invalid task number.</b>\"))\n",
        "    show_tasks()"
      ],
      "metadata": {
        "id": "H4GisSGElA3q"
      },
      "execution_count": 16,
      "outputs": []
    },
    {
      "cell_type": "code",
      "source": [
        "def delete_task(task_number):\n",
        "    tasks = load_tasks()\n",
        "    if 1 <= task_number <= len(tasks):\n",
        "        removed_task = tasks.pop(task_number - 1)\n",
        "        save_tasks(tasks)\n",
        "        display(HTML(f\"<b>🗑 Task deleted:</b> {removed_task}\"))\n",
        "    else:\n",
        "        display(HTML(\"<b>❌ Invalid task number.</b>\"))\n",
        "    show_tasks()"
      ],
      "metadata": {
        "id": "BUJJDkw9lDJP"
      },
      "execution_count": 17,
      "outputs": []
    },
    {
      "cell_type": "code",
      "source": [
        "def interactive_todo_list():\n",
        "    show_tasks()\n",
        "    display(HTML(\"<h4>➕ Add a New Task:</h4>\"))\n",
        "    task = input(\"Enter task: \").strip()\n",
        "    if task:\n",
        "        add_task(task)\n",
        "\n",
        "    display(HTML(\"<h4>✔️ Complete a Task:</h4>\"))\n",
        "    try:\n",
        "        task_num = int(input(\"Enter task number to complete (0 to skip): \"))\n",
        "        if task_num > 0:\n",
        "            complete_task(task_num)\n",
        "    except ValueError:\n",
        "        display(HTML(\"<b>❌ Invalid input.</b>\"))\n",
        "\n",
        "    display(HTML(\"<h4>🗑 Delete a Task:</h4>\"))\n",
        "    try:\n",
        "        task_num = int(input(\"Enter task number to delete (0 to skip): \"))\n",
        "        if task_num > 0:\n",
        "            delete_task(task_num)\n",
        "    except ValueError:\n",
        "        display(HTML(\"<b>❌ Invalid input.</b>\"))"
      ],
      "metadata": {
        "id": "zDeSY-EKlFH-"
      },
      "execution_count": 18,
      "outputs": []
    },
    {
      "cell_type": "code",
      "source": [
        "interactive_todo_list()"
      ],
      "metadata": {
        "colab": {
          "base_uri": "https://localhost:8080/",
          "height": 299
        },
        "id": "O4cJtmf9lJME",
        "outputId": "e8aafa7f-3271-4e0e-bc9a-bde899ec715f"
      },
      "execution_count": 19,
      "outputs": [
        {
          "output_type": "display_data",
          "data": {
            "text/plain": [
              "<IPython.core.display.HTML object>"
            ],
            "text/html": [
              "<b>✅ No tasks available!</b>"
            ]
          },
          "metadata": {}
        },
        {
          "output_type": "display_data",
          "data": {
            "text/plain": [
              "<IPython.core.display.HTML object>"
            ],
            "text/html": [
              "<h4>➕ Add a New Task:</h4>"
            ]
          },
          "metadata": {}
        },
        {
          "name": "stdout",
          "output_type": "stream",
          "text": [
            "Enter task: dasa\n"
          ]
        },
        {
          "output_type": "display_data",
          "data": {
            "text/plain": [
              "<IPython.core.display.HTML object>"
            ],
            "text/html": [
              "<b>✅ Task added:</b> dasa"
            ]
          },
          "metadata": {}
        },
        {
          "output_type": "display_data",
          "data": {
            "text/plain": [
              "<IPython.core.display.HTML object>"
            ],
            "text/html": [
              "<b>📌 To-Do List:</b><ul><li>1. dasa</li></ul>"
            ]
          },
          "metadata": {}
        },
        {
          "output_type": "display_data",
          "data": {
            "text/plain": [
              "<IPython.core.display.HTML object>"
            ],
            "text/html": [
              "<h4>✔️ Complete a Task:</h4>"
            ]
          },
          "metadata": {}
        },
        {
          "name": "stdout",
          "output_type": "stream",
          "text": [
            "Enter task number to complete (0 to skip): asd\n"
          ]
        },
        {
          "output_type": "display_data",
          "data": {
            "text/plain": [
              "<IPython.core.display.HTML object>"
            ],
            "text/html": [
              "<b>❌ Invalid input.</b>"
            ]
          },
          "metadata": {}
        },
        {
          "output_type": "display_data",
          "data": {
            "text/plain": [
              "<IPython.core.display.HTML object>"
            ],
            "text/html": [
              "<h4>🗑 Delete a Task:</h4>"
            ]
          },
          "metadata": {}
        },
        {
          "name": "stdout",
          "output_type": "stream",
          "text": [
            "Enter task number to delete (0 to skip): das\n"
          ]
        },
        {
          "output_type": "display_data",
          "data": {
            "text/plain": [
              "<IPython.core.display.HTML object>"
            ],
            "text/html": [
              "<b>❌ Invalid input.</b>"
            ]
          },
          "metadata": {}
        }
      ]
    }
  ]
}