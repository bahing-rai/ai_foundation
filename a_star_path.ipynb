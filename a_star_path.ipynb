{
  "nbformat": 4,
  "nbformat_minor": 0,
  "metadata": {
    "colab": {
      "provenance": [],
      "authorship_tag": "ABX9TyNK6l4wdsVIHzYig3BkL4cy",
      "include_colab_link": true
    },
    "kernelspec": {
      "name": "python3",
      "display_name": "Python 3"
    },
    "language_info": {
      "name": "python"
    }
  },
  "cells": [
    {
      "cell_type": "markdown",
      "metadata": {
        "id": "view-in-github",
        "colab_type": "text"
      },
      "source": [
        "<a href=\"https://colab.research.google.com/github/bahing-rai/ai_foundation/blob/main/a_star_path.ipynb\" target=\"_parent\"><img src=\"https://colab.research.google.com/assets/colab-badge.svg\" alt=\"Open In Colab\"/></a>"
      ]
    },
    {
      "cell_type": "code",
      "execution_count": 1,
      "metadata": {
        "colab": {
          "base_uri": "https://localhost:8080/"
        },
        "id": "UoU6wSXxt-lI",
        "outputId": "70a05171-09ae-4448-bca9-eb6fb24d6b9f"
      },
      "outputs": [
        {
          "output_type": "stream",
          "name": "stdout",
          "text": [
            "A* path from A to G: A -> B -> E -> F -> G\n"
          ]
        }
      ],
      "source": [
        "import heapq\n",
        "\n",
        "\n",
        "def a_star(graph, heuristic, start, goal):\n",
        "    open_set = []\n",
        "    heapq.heappush(open_set, (heuristic[start], 0, start))  # (f_score, g_score, city)\n",
        "\n",
        "    parent = {start: None}\n",
        "    g_score = {start: 0}\n",
        "\n",
        "    while open_set:\n",
        "        f, current_g, current = heapq.heappop(open_set)\n",
        "\n",
        "        if current == goal:\n",
        "            # Reconstruct path\n",
        "            path = []\n",
        "            while current:\n",
        "                path.append(current)\n",
        "                current = parent[current]\n",
        "            return path[::-1]\n",
        "\n",
        "        for neighbor, cost in graph.get(current, []):\n",
        "            tentative_g = current_g + cost\n",
        "            if neighbor not in g_score or tentative_g < g_score[neighbor]:\n",
        "                g_score[neighbor] = tentative_g\n",
        "                f_score = tentative_g + heuristic.get(neighbor, float('inf'))\n",
        "                heapq.heappush(open_set, (f_score, tentative_g, neighbor))\n",
        "                parent[neighbor] = current\n",
        "\n",
        "    return None  # No path found\n",
        "\n",
        "city_graph = {\n",
        "    \"A\": [(\"B\", 1), (\"C\", 7)],\n",
        "    \"B\": [(\"A\", 1), (\"D\", 2), (\"E\", 5)],\n",
        "    \"C\": [(\"A\", 7), (\"F\", 3)],\n",
        "    \"D\": [(\"B\", 2)],\n",
        "    \"E\": [(\"B\", 5), (\"F\", 1)],\n",
        "    \"F\": [(\"C\", 3), (\"E\", 1), (\"G\", 2)],\n",
        "    \"G\": [(\"F\", 2)]\n",
        "}\n",
        "\n",
        "heuristic = {\n",
        "    \"A\": 7,\n",
        "    \"B\": 6,\n",
        "    \"C\": 4,\n",
        "    \"D\": 3,\n",
        "    \"E\": 2,\n",
        "    \"F\": 1,\n",
        "    \"G\": 0  # Goal node has 0 heuristic\n",
        "}\n",
        "\n",
        "start_city = \"A\"\n",
        "goal_city = \"G\"\n",
        "\n",
        "path = a_star(city_graph, heuristic, start_city, goal_city)\n",
        "if path:\n",
        "    print(f\"A* path from {start_city} to {goal_city}: {' -> '.join(path)}\")\n",
        "else:\n",
        "    print(\"No path found.\")"
      ]
    }
  ]
}