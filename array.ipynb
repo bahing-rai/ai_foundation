{
  "nbformat": 4,
  "nbformat_minor": 0,
  "metadata": {
    "colab": {
      "provenance": [],
      "authorship_tag": "ABX9TyPU4UorexBf+tHqlfXNByoU",
      "include_colab_link": true
    },
    "kernelspec": {
      "name": "python3",
      "display_name": "Python 3"
    },
    "language_info": {
      "name": "python"
    }
  },
  "cells": [
    {
      "cell_type": "markdown",
      "metadata": {
        "id": "view-in-github",
        "colab_type": "text"
      },
      "source": [
        "<a href=\"https://colab.research.google.com/github/bahing-rai/ai_foundation/blob/main/array.ipynb\" target=\"_parent\"><img src=\"https://colab.research.google.com/assets/colab-badge.svg\" alt=\"Open In Colab\"/></a>"
      ]
    },
    {
      "cell_type": "code",
      "execution_count": 1,
      "metadata": {
        "id": "mlB4MeeTkxHJ"
      },
      "outputs": [],
      "source": [
        "import numpy as np\n",
        "import matplotlib.pyplot as plt"
      ]
    },
    {
      "cell_type": "code",
      "source": [
        "def calculate_average(arr):\n",
        "    total_sum = np.sum(arr)\n",
        "    average = total_sum / len(arr)\n",
        "    return average"
      ],
      "metadata": {
        "id": "0_EF9V47k9D_"
      },
      "execution_count": 2,
      "outputs": []
    },
    {
      "cell_type": "code",
      "source": [
        "size = int(input(\"Enter the number of elements in the array: \"))\n",
        "numbers = []"
      ],
      "metadata": {
        "colab": {
          "base_uri": "https://localhost:8080/"
        },
        "id": "1_wT5IOFlA25",
        "outputId": "3769f92b-3bfc-490a-ef61-f085b9c34846"
      },
      "execution_count": 5,
      "outputs": [
        {
          "name": "stdout",
          "output_type": "stream",
          "text": [
            "Enter the number of elements in the array: 9\n"
          ]
        }
      ]
    },
    {
      "cell_type": "code",
      "source": [
        "for i in range(size):\n",
        "    num = float(input(f\"Enter element {i+1}: \"))\n",
        "    numbers.append(num)"
      ],
      "metadata": {
        "colab": {
          "base_uri": "https://localhost:8080/"
        },
        "id": "ozQBKwzGlXPr",
        "outputId": "f9113442-4ad6-4ed9-cacc-e225a528116b"
      },
      "execution_count": 6,
      "outputs": [
        {
          "name": "stdout",
          "output_type": "stream",
          "text": [
            "Enter element 1: 12\n",
            "Enter element 2: 3\n",
            "Enter element 3: 4\n",
            "Enter element 4: 5\n",
            "Enter element 5: 2\n",
            "Enter element 6: 8\n",
            "Enter element 7: 7\n",
            "Enter element 8: 9\n",
            "Enter element 9: 3\n"
          ]
        }
      ]
    },
    {
      "cell_type": "code",
      "source": [
        "numbers_array = np.array(numbers)"
      ],
      "metadata": {
        "id": "pXehpCwRlfYR"
      },
      "execution_count": 7,
      "outputs": []
    },
    {
      "cell_type": "code",
      "source": [
        "average_value = calculate_average(numbers_array)"
      ],
      "metadata": {
        "id": "kOBrXVanliEm"
      },
      "execution_count": 8,
      "outputs": []
    },
    {
      "cell_type": "code",
      "source": [
        "print(\"\\nEntered Numbers:\", numbers_array)\n",
        "print(\"Sum of Numbers:\", np.sum(numbers_array))\n",
        "print(\"Average Value:\", round(average_value, 2))"
      ],
      "metadata": {
        "colab": {
          "base_uri": "https://localhost:8080/"
        },
        "id": "jb1DV5E0lkcL",
        "outputId": "88365d57-e736-42e7-c24f-a448f5fd8318"
      },
      "execution_count": 9,
      "outputs": [
        {
          "output_type": "stream",
          "name": "stdout",
          "text": [
            "\n",
            "Entered Numbers: [12.  3.  4.  5.  2.  8.  7.  9.  3.]\n",
            "Sum of Numbers: 53.0\n",
            "Average Value: 5.89\n"
          ]
        }
      ]
    },
    {
      "cell_type": "code",
      "source": [
        "plt.figure(figsize=(8, 4))\n",
        "plt.bar(range(1, size + 1), numbers_array, color='skyblue', label=\"Values\")\n",
        "plt.axhline(y=average_value, color='r', linestyle='--', label=\"Average\")\n",
        "plt.xlabel(\"Index\")\n",
        "plt.ylabel(\"Value\")\n",
        "plt.title(\"Visualization of Entered Numbers\")\n",
        "plt.legend()\n",
        "plt.show()"
      ],
      "metadata": {
        "colab": {
          "base_uri": "https://localhost:8080/",
          "height": 410
        },
        "id": "9fCmmCoSlnC7",
        "outputId": "ef023751-933e-4fd6-bbdb-294e08f507a2"
      },
      "execution_count": 10,
      "outputs": [
        {
          "output_type": "display_data",
          "data": {
            "text/plain": [
              "<Figure size 800x400 with 1 Axes>"
            ],
            "image/png": "[encoded data removed]"
          },
          "metadata": {}
        }
      ]
    }
  ]
}